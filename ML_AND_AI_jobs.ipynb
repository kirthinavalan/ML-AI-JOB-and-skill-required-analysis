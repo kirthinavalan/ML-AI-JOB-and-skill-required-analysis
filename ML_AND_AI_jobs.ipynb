{
  "cells": [
    {
      "cell_type": "code",
      "execution_count": null,
      "metadata": {
        "id": "ipi2cDmjxzqj"
      },
      "outputs": [],
      "source": [
        "import pandas as pd\n",
        "import matplotlib.pyplot as plt\n",
        "import seaborn as sns"
      ]
    },
    {
      "cell_type": "code",
      "execution_count": null,
      "metadata": {
        "colab": {
          "background_save": true
        },
        "id": "ilXlhyCbx3q4",
        "outputId": "0db2448a-3541-4472-df25-803c3b806c42"
      },
      "outputs": [
        {
          "name": "stdout",
          "output_type": "stream",
          "text": [
            "Mounted at /content/drive\n"
          ]
        }
      ],
      "source": [
        "from google.colab import drive\n",
        "drive.mount('/content/drive')"
      ]
    },
    {
      "cell_type": "code",
      "execution_count": null,
      "metadata": {
        "colab": {
          "background_save": true
        },
        "id": "AwnAlxJtyI3v"
      },
      "outputs": [],
      "source": [
        "data = pd.read_csv('/content/final_job_list.csv')"
      ]
    },
    {
      "cell_type": "code",
      "execution_count": null,
      "metadata": {
        "colab": {
          "background_save": true
        },
        "id": "baCh0JMwyTqo",
        "outputId": "cbaef87a-03cf-4e8a-e53e-a698c0859342"
      },
      "outputs": [
        {
          "data": {
            "application/vnd.google.colaboratory.intrinsic+json": {
              "summary": "{\n  \"name\": \"data\",\n  \"rows\": 634,\n  \"fields\": [\n    {\n      \"column\": \"Title\",\n      \"properties\": {\n        \"dtype\": \"category\",\n        \"num_unique_values\": 177,\n        \"samples\": [\n          \"Full Stack Data Engineer\",\n          \"DIRECTOR OF ARTIFICIAL INTELLIGENCE ENABLEMENT\",\n          \"AVP, Mortgage Portfolio Analytics - 100% Remote\"\n        ],\n        \"semantic_type\": \"\",\n        \"description\": \"\"\n      }\n    },\n    {\n      \"column\": \"Company\",\n      \"properties\": {\n        \"dtype\": \"category\",\n        \"num_unique_values\": 176,\n        \"samples\": [\n          \"Airbnb\",\n          \"Lendistry\",\n          \"Confluent\"\n        ],\n        \"semantic_type\": \"\",\n        \"description\": \"\"\n      }\n    },\n    {\n      \"column\": \"Location\",\n      \"properties\": {\n        \"dtype\": \"category\",\n        \"num_unique_values\": 36,\n        \"samples\": [\n          \"AK\",\n          \"OH\",\n          \"KS\"\n        ],\n        \"semantic_type\": \"\",\n        \"description\": \"\"\n      }\n    },\n    {\n      \"column\": \"Type of Positions\",\n      \"properties\": {\n        \"dtype\": \"category\",\n        \"num_unique_values\": 1,\n        \"samples\": [\n          \"Full-time\"\n        ],\n        \"semantic_type\": \"\",\n        \"description\": \"\"\n      }\n    },\n    {\n      \"column\": \"Salary\",\n      \"properties\": {\n        \"dtype\": \"number\",\n        \"std\": 36752,\n        \"min\": 7315,\n        \"max\": 268000,\n        \"num_unique_values\": 152,\n        \"samples\": [\n          69107\n        ],\n        \"semantic_type\": \"\",\n        \"description\": \"\"\n      }\n    },\n    {\n      \"column\": \"Identified_Skills\",\n      \"properties\": {\n        \"dtype\": \"category\",\n        \"num_unique_values\": 131,\n        \"samples\": [\n          \"['python', 'machine learning', 'deep learning', 'aws', 'gcp', 'sql']\"\n        ],\n        \"semantic_type\": \"\",\n        \"description\": \"\"\n      }\n    }\n  ]\n}",
              "type": "dataframe",
              "variable_name": "data"
            },
            "text/html": [
              "\n",
              "  <div id=\"df-8f6a1cd8-07bc-4207-8c79-c0061cbcca7e\" class=\"colab-df-container\">\n",
              "    <div>\n",
              "<style scoped>\n",
              "    .dataframe tbody tr th:only-of-type {\n",
              "        vertical-align: middle;\n",
              "    }\n",
              "\n",
              "    .dataframe tbody tr th {\n",
              "        vertical-align: top;\n",
              "    }\n",
              "\n",
              "    .dataframe thead th {\n",
              "        text-align: right;\n",
              "    }\n",
              "</style>\n",
              "<table border=\"1\" class=\"dataframe\">\n",
              "  <thead>\n",
              "    <tr style=\"text-align: right;\">\n",
              "      <th></th>\n",
              "      <th>Title</th>\n",
              "      <th>Company</th>\n",
              "      <th>Location</th>\n",
              "      <th>Type of Positions</th>\n",
              "      <th>Salary</th>\n",
              "      <th>Identified_Skills</th>\n",
              "    </tr>\n",
              "  </thead>\n",
              "  <tbody>\n",
              "    <tr>\n",
              "      <th>0</th>\n",
              "      <td>Staff Applied Scientist, Marketplace</td>\n",
              "      <td>ThredUp Inc.</td>\n",
              "      <td>CA</td>\n",
              "      <td>Full-time</td>\n",
              "      <td>190000</td>\n",
              "      <td>['python', 'machine learning', 'aws', 'sql']</td>\n",
              "    </tr>\n",
              "    <tr>\n",
              "      <th>1</th>\n",
              "      <td>Prompt Engineer for Generative AI (chatbot and...</td>\n",
              "      <td>Vicarious Talent Agency</td>\n",
              "      <td>WA</td>\n",
              "      <td>Full-time</td>\n",
              "      <td>70000</td>\n",
              "      <td>['python', 'machine learning', 'deep learning'...</td>\n",
              "    </tr>\n",
              "    <tr>\n",
              "      <th>2</th>\n",
              "      <td>Data Systems Analyst/Architect</td>\n",
              "      <td>General Dynamics Information Technology</td>\n",
              "      <td>Remote</td>\n",
              "      <td>Full-time</td>\n",
              "      <td>104000</td>\n",
              "      <td>['machine learning', 'aws', 'azure', 'nosql', ...</td>\n",
              "    </tr>\n",
              "    <tr>\n",
              "      <th>3</th>\n",
              "      <td>AIOps Principle Data Scientist</td>\n",
              "      <td>CVS Health</td>\n",
              "      <td>CT</td>\n",
              "      <td>Full-time</td>\n",
              "      <td>140000</td>\n",
              "      <td>['python', 'machine learning', 'aws', 'gcp']</td>\n",
              "    </tr>\n",
              "    <tr>\n",
              "      <th>4</th>\n",
              "      <td>Sr. Data Scientist</td>\n",
              "      <td>Altak Group</td>\n",
              "      <td>Remote</td>\n",
              "      <td>Full-time</td>\n",
              "      <td>136000</td>\n",
              "      <td>['python', 'machine learning', 'tableau', 'aws...</td>\n",
              "    </tr>\n",
              "  </tbody>\n",
              "</table>\n",
              "</div>\n",
              "    <div class=\"colab-df-buttons\">\n",
              "\n",
              "  <div class=\"colab-df-container\">\n",
              "    <button class=\"colab-df-convert\" onclick=\"convertToInteractive('df-8f6a1cd8-07bc-4207-8c79-c0061cbcca7e')\"\n",
              "            title=\"Convert this dataframe to an interactive table.\"\n",
              "            style=\"display:none;\">\n",
              "\n",
              "  <svg xmlns=\"http://www.w3.org/2000/svg\" height=\"24px\" viewBox=\"0 -960 960 960\">\n",
              "    <path d=\"M120-120v-720h720v720H120Zm60-500h600v-160H180v160Zm220 220h160v-160H400v160Zm0 220h160v-160H400v160ZM180-400h160v-160H180v160Zm440 0h160v-160H620v160ZM180-180h160v-160H180v160Zm440 0h160v-160H620v160Z\"/>\n",
              "  </svg>\n",
              "    </button>\n",
              "\n",
              "  <style>\n",
              "    .colab-df-container {\n",
              "      display:flex;\n",
              "      gap: 12px;\n",
              "    }\n",
              "\n",
              "    .colab-df-convert {\n",
              "      background-color: #E8F0FE;\n",
              "      border: none;\n",
              "      border-radius: 50%;\n",
              "      cursor: pointer;\n",
              "      display: none;\n",
              "      fill: #1967D2;\n",
              "      height: 32px;\n",
              "      padding: 0 0 0 0;\n",
              "      width: 32px;\n",
              "    }\n",
              "\n",
              "    .colab-df-convert:hover {\n",
              "      background-color: #E2EBFA;\n",
              "      box-shadow: 0px 1px 2px rgba(60, 64, 67, 0.3), 0px 1px 3px 1px rgba(60, 64, 67, 0.15);\n",
              "      fill: #174EA6;\n",
              "    }\n",
              "\n",
              "    .colab-df-buttons div {\n",
              "      margin-bottom: 4px;\n",
              "    }\n",
              "\n",
              "    [theme=dark] .colab-df-convert {\n",
              "      background-color: #3B4455;\n",
              "      fill: #D2E3FC;\n",
              "    }\n",
              "\n",
              "    [theme=dark] .colab-df-convert:hover {\n",
              "      background-color: #434B5C;\n",
              "      box-shadow: 0px 1px 3px 1px rgba(0, 0, 0, 0.15);\n",
              "      filter: drop-shadow(0px 1px 2px rgba(0, 0, 0, 0.3));\n",
              "      fill: #FFFFFF;\n",
              "    }\n",
              "  </style>\n",
              "\n",
              "    <script>\n",
              "      const buttonEl =\n",
              "        document.querySelector('#df-8f6a1cd8-07bc-4207-8c79-c0061cbcca7e button.colab-df-convert');\n",
              "      buttonEl.style.display =\n",
              "        google.colab.kernel.accessAllowed ? 'block' : 'none';\n",
              "\n",
              "      async function convertToInteractive(key) {\n",
              "        const element = document.querySelector('#df-8f6a1cd8-07bc-4207-8c79-c0061cbcca7e');\n",
              "        const dataTable =\n",
              "          await google.colab.kernel.invokeFunction('convertToInteractive',\n",
              "                                                    [key], {});\n",
              "        if (!dataTable) return;\n",
              "\n",
              "        const docLinkHtml = 'Like what you see? Visit the ' +\n",
              "          '<a target=\"_blank\" href=https://colab.research.google.com/notebooks/data_table.ipynb>data table notebook</a>'\n",
              "          + ' to learn more about interactive tables.';\n",
              "        element.innerHTML = '';\n",
              "        dataTable['output_type'] = 'display_data';\n",
              "        await google.colab.output.renderOutput(dataTable, element);\n",
              "        const docLink = document.createElement('div');\n",
              "        docLink.innerHTML = docLinkHtml;\n",
              "        element.appendChild(docLink);\n",
              "      }\n",
              "    </script>\n",
              "  </div>\n",
              "\n",
              "\n",
              "<div id=\"df-18461a1e-b236-49c8-bccd-7e9bc490952f\">\n",
              "  <button class=\"colab-df-quickchart\" onclick=\"quickchart('df-18461a1e-b236-49c8-bccd-7e9bc490952f')\"\n",
              "            title=\"Suggest charts\"\n",
              "            style=\"display:none;\">\n",
              "\n",
              "<svg xmlns=\"http://www.w3.org/2000/svg\" height=\"24px\"viewBox=\"0 0 24 24\"\n",
              "     width=\"24px\">\n",
              "    <g>\n",
              "        <path d=\"M19 3H5c-1.1 0-2 .9-2 2v14c0 1.1.9 2 2 2h14c1.1 0 2-.9 2-2V5c0-1.1-.9-2-2-2zM9 17H7v-7h2v7zm4 0h-2V7h2v10zm4 0h-2v-4h2v4z\"/>\n",
              "    </g>\n",
              "</svg>\n",
              "  </button>\n",
              "\n",
              "<style>\n",
              "  .colab-df-quickchart {\n",
              "      --bg-color: #E8F0FE;\n",
              "      --fill-color: #1967D2;\n",
              "      --hover-bg-color: #E2EBFA;\n",
              "      --hover-fill-color: #174EA6;\n",
              "      --disabled-fill-color: #AAA;\n",
              "      --disabled-bg-color: #DDD;\n",
              "  }\n",
              "\n",
              "  [theme=dark] .colab-df-quickchart {\n",
              "      --bg-color: #3B4455;\n",
              "      --fill-color: #D2E3FC;\n",
              "      --hover-bg-color: #434B5C;\n",
              "      --hover-fill-color: #FFFFFF;\n",
              "      --disabled-bg-color: #3B4455;\n",
              "      --disabled-fill-color: #666;\n",
              "  }\n",
              "\n",
              "  .colab-df-quickchart {\n",
              "    background-color: var(--bg-color);\n",
              "    border: none;\n",
              "    border-radius: 50%;\n",
              "    cursor: pointer;\n",
              "    display: none;\n",
              "    fill: var(--fill-color);\n",
              "    height: 32px;\n",
              "    padding: 0;\n",
              "    width: 32px;\n",
              "  }\n",
              "\n",
              "  .colab-df-quickchart:hover {\n",
              "    background-color: var(--hover-bg-color);\n",
              "    box-shadow: 0 1px 2px rgba(60, 64, 67, 0.3), 0 1px 3px 1px rgba(60, 64, 67, 0.15);\n",
              "    fill: var(--button-hover-fill-color);\n",
              "  }\n",
              "\n",
              "  .colab-df-quickchart-complete:disabled,\n",
              "  .colab-df-quickchart-complete:disabled:hover {\n",
              "    background-color: var(--disabled-bg-color);\n",
              "    fill: var(--disabled-fill-color);\n",
              "    box-shadow: none;\n",
              "  }\n",
              "\n",
              "  .colab-df-spinner {\n",
              "    border: 2px solid var(--fill-color);\n",
              "    border-color: transparent;\n",
              "    border-bottom-color: var(--fill-color);\n",
              "    animation:\n",
              "      spin 1s steps(1) infinite;\n",
              "  }\n",
              "\n",
              "  @keyframes spin {\n",
              "    0% {\n",
              "      border-color: transparent;\n",
              "      border-bottom-color: var(--fill-color);\n",
              "      border-left-color: var(--fill-color);\n",
              "    }\n",
              "    20% {\n",
              "      border-color: transparent;\n",
              "      border-left-color: var(--fill-color);\n",
              "      border-top-color: var(--fill-color);\n",
              "    }\n",
              "    30% {\n",
              "      border-color: transparent;\n",
              "      border-left-color: var(--fill-color);\n",
              "      border-top-color: var(--fill-color);\n",
              "      border-right-color: var(--fill-color);\n",
              "    }\n",
              "    40% {\n",
              "      border-color: transparent;\n",
              "      border-right-color: var(--fill-color);\n",
              "      border-top-color: var(--fill-color);\n",
              "    }\n",
              "    60% {\n",
              "      border-color: transparent;\n",
              "      border-right-color: var(--fill-color);\n",
              "    }\n",
              "    80% {\n",
              "      border-color: transparent;\n",
              "      border-right-color: var(--fill-color);\n",
              "      border-bottom-color: var(--fill-color);\n",
              "    }\n",
              "    90% {\n",
              "      border-color: transparent;\n",
              "      border-bottom-color: var(--fill-color);\n",
              "    }\n",
              "  }\n",
              "</style>\n",
              "\n",
              "  <script>\n",
              "    async function quickchart(key) {\n",
              "      const quickchartButtonEl =\n",
              "        document.querySelector('#' + key + ' button');\n",
              "      quickchartButtonEl.disabled = true;  // To prevent multiple clicks.\n",
              "      quickchartButtonEl.classList.add('colab-df-spinner');\n",
              "      try {\n",
              "        const charts = await google.colab.kernel.invokeFunction(\n",
              "            'suggestCharts', [key], {});\n",
              "      } catch (error) {\n",
              "        console.error('Error during call to suggestCharts:', error);\n",
              "      }\n",
              "      quickchartButtonEl.classList.remove('colab-df-spinner');\n",
              "      quickchartButtonEl.classList.add('colab-df-quickchart-complete');\n",
              "    }\n",
              "    (() => {\n",
              "      let quickchartButtonEl =\n",
              "        document.querySelector('#df-18461a1e-b236-49c8-bccd-7e9bc490952f button');\n",
              "      quickchartButtonEl.style.display =\n",
              "        google.colab.kernel.accessAllowed ? 'block' : 'none';\n",
              "    })();\n",
              "  </script>\n",
              "</div>\n",
              "\n",
              "    </div>\n",
              "  </div>\n"
            ],
            "text/plain": [
              "                                               Title  \\\n",
              "0               Staff Applied Scientist, Marketplace   \n",
              "1  Prompt Engineer for Generative AI (chatbot and...   \n",
              "2                     Data Systems Analyst/Architect   \n",
              "3                     AIOps Principle Data Scientist   \n",
              "4                                 Sr. Data Scientist   \n",
              "\n",
              "                                   Company Location Type of Positions  Salary  \\\n",
              "0                             ThredUp Inc.       CA         Full-time  190000   \n",
              "1                  Vicarious Talent Agency       WA         Full-time   70000   \n",
              "2  General Dynamics Information Technology   Remote         Full-time  104000   \n",
              "3                               CVS Health       CT         Full-time  140000   \n",
              "4                              Altak Group   Remote         Full-time  136000   \n",
              "\n",
              "                                   Identified_Skills  \n",
              "0       ['python', 'machine learning', 'aws', 'sql']  \n",
              "1  ['python', 'machine learning', 'deep learning'...  \n",
              "2  ['machine learning', 'aws', 'azure', 'nosql', ...  \n",
              "3       ['python', 'machine learning', 'aws', 'gcp']  \n",
              "4  ['python', 'machine learning', 'tableau', 'aws...  "
            ]
          },
          "execution_count": 4,
          "metadata": {},
          "output_type": "execute_result"
        }
      ],
      "source": [
        "data.head()"
      ]
    },
    {
      "cell_type": "code",
      "execution_count": null,
      "metadata": {
        "colab": {
          "background_save": true
        },
        "id": "ofM475HmyaUu",
        "outputId": "3affc95f-7cb4-4e17-d94a-3df2163b662f"
      },
      "outputs": [
        {
          "data": {
            "text/plain": [
              "Title                object\n",
              "Company              object\n",
              "Location             object\n",
              "Type of Positions    object\n",
              "Salary                int64\n",
              "Identified_Skills    object\n",
              "dtype: object"
            ]
          },
          "execution_count": 5,
          "metadata": {},
          "output_type": "execute_result"
        }
      ],
      "source": [
        "data.dtypes"
      ]
    },
    {
      "cell_type": "code",
      "execution_count": null,
      "metadata": {
        "colab": {
          "background_save": true
        },
        "id": "XTlaRroU92Gs",
        "outputId": "3b6f8fb5-f121-4d09-dbdd-2f0e655639ac"
      },
      "outputs": [
        {
          "data": {
            "text/plain": [
              "(634, 6)"
            ]
          },
          "execution_count": 6,
          "metadata": {},
          "output_type": "execute_result"
        }
      ],
      "source": [
        "data.shape"
      ]
    },
    {
      "cell_type": "code",
      "execution_count": null,
      "metadata": {
        "colab": {
          "background_save": true
        },
        "id": "uYFxrNfRy0lu",
        "outputId": "1ffc1537-f5df-4ab1-b5ca-418165fbab36"
      },
      "outputs": [
        {
          "data": {
            "text/plain": [
              "array([\"['python', 'machine learning', 'aws', 'sql']\",\n",
              "       \"['python', 'machine learning', 'deep learning', 'aws', 'etl']\",\n",
              "       \"['machine learning', 'aws', 'azure', 'nosql', 'etl']\",\n",
              "       \"['python', 'machine learning', 'aws', 'gcp']\",\n",
              "       \"['python', 'machine learning', 'tableau', 'aws', 'sql', 'hadoop']\",\n",
              "       \"['tensorflow', 'pytorch', 'python', 'machine learning', 'deep learning', 'sql']\",\n",
              "       \"['azure', 'sql', 'airflow', 'hadoop', 'pyspark']\",\n",
              "       \"['tableau', 'sql']\",\n",
              "       \"['tensorflow', 'pytorch', 'python', 'machine learning', 'aws', 'azure', 'docker', 'gcp', 'sql', 'git']\",\n",
              "       \"['etl', 'sql']\", \"['python', 'machine learning', 'sql']\",\n",
              "       \"['python', 'machine learning', 'aws', 'nosql', 'sql']\",\n",
              "       \"['python', 'tableau', 'aws', 'azure', 'etl', 'sql', 'hadoop']\",\n",
              "       \"['python', 'tableau', 'sql']\",\n",
              "       \"['python', 'machine learning', 'tableau', 'nosql', 'etl', 'sql', 'hadoop']\",\n",
              "       \"['python', 'machine learning']\",\n",
              "       \"['tensorflow', 'python', 'machine learning']\",\n",
              "       \"['machine learning', 'tableau']\", \"['tensorflow', 'python']\",\n",
              "       \"['python', 'numpy', 'pandas', 'sql', 'kafka', 'hadoop', 'apache spark']\",\n",
              "       \"['machine learning', 'tableau', 'sql', 'hadoop']\",\n",
              "       \"['python', 'sql']\", \"['python', 'docker', 'nosql', 'sql', 'git']\",\n",
              "       \"['python', 'aws', 'azure', 'sql']\",\n",
              "       \"['tensorflow', 'pytorch', 'machine learning', 'aws', 'azure']\",\n",
              "       \"['tensorflow', 'pytorch', 'python', 'machine learning', 'deep learning']\",\n",
              "       \"['python', 'machine learning', 'aws', 'gcp', 'sql']\",\n",
              "       \"['python', 'machine learning', 'sql', 'hadoop']\",\n",
              "       \"['machine learning']\",\n",
              "       \"['tensorflow', 'pytorch', 'python', 'pandas', 'machine learning', 'deep learning', 'aws', 'azure', 'sql']\",\n",
              "       \"['python', 'tableau', 'sql', 'hadoop']\",\n",
              "       \"['tensorflow', 'pytorch', 'python', 'machine learning']\",\n",
              "       \"['python', 'machine learning', 'git']\",\n",
              "       \"['python', 'machine learning', 'aws', 'azure', 'gcp', 'etl']\",\n",
              "       \"['python', 'tableau']\",\n",
              "       \"['python', 'machine learning', 'deep learning', 'aws', 'azure', 'gcp', 'mysql', 'nosql', 'sql', 'kafka', 'hadoop']\",\n",
              "       \"['python', 'machine learning', 'deep learning', 'aws', 'sql']\",\n",
              "       \"['python', 'tableau', 'sql', 'git']\",\n",
              "       \"['python', 'tableau', 'gcp', 'sql']\", \"['sql']\",\n",
              "       \"['machine learning', 'azure']\", \"['python']\",\n",
              "       \"['python', 'machine learning', 'deep learning', 'aws', 'azure', 'docker', 'gcp', 'sql']\",\n",
              "       \"['python', 'machine learning', 'aws', 'azure', 'gcp', 'sql']\",\n",
              "       \"['deep learning']\",\n",
              "       \"['python', 'machine learning', 'sql', 'kafka']\", \"['gcp']\",\n",
              "       \"['tensorflow', 'pytorch', 'python', 'numpy', 'pandas', 'machine learning', 'deep learning', 'sql']\",\n",
              "       \"['python', 'aws', 'airflow']\",\n",
              "       \"['pytorch', 'machine learning', 'deep learning']\",\n",
              "       \"['python', 'machine learning', 'tableau', 'postgresql', 'sql']\",\n",
              "       \"['tensorflow', 'pytorch', 'python', 'machine learning', 'aws', 'azure']\",\n",
              "       \"['python', 'numpy', 'pandas', 'machine learning', 'nosql', 'etl', 'sql', 'hadoop']\",\n",
              "       \"['python', 'aws', 'mysql', 'sql']\",\n",
              "       \"['tensorflow', 'pytorch', 'python', 'machine learning', 'spark ml', 'nosql', 'sql', 'git']\",\n",
              "       \"['python', 'machine learning', 'deep learning', 'aws', 'gcp', 'sql']\",\n",
              "       \"['python', 'machine learning', 'azure']\",\n",
              "       \"['tensorflow', 'pytorch', 'python', 'numpy', 'pandas', 'machine learning', 'deep learning', 'aws', 'hadoop']\",\n",
              "       \"['machine learning', 'tableau', 'sql']\",\n",
              "       \"['python', 'deep learning', 'docker']\",\n",
              "       \"['python', 'machine learning', 'etl', 'sql', 'airflow', 'git']\",\n",
              "       \"['python', 'machine learning', 'tableau', 'aws', 'azure', 'mysql', 'nosql', 'etl', 'sql', 'kafka', 'hadoop']\",\n",
              "       \"['tensorflow', 'python', 'machine learning', 'deep learning']\",\n",
              "       \"['python', 'machine learning', 'tableau', 'aws', 'azure', 'sql']\",\n",
              "       \"['python', 'machine learning', 'deep learning', 'tableau', 'aws', 'docker', 'airflow', 'kafka']\",\n",
              "       \"['python', 'tableau', 'docker', 'sql', 'git', 'hadoop']\",\n",
              "       \"['python', 'git']\",\n",
              "       \"['python', 'machine learning', 'deep learning', 'aws', 'azure', 'gcp', 'sql']\",\n",
              "       \"['python', 'machine learning', 'tableau', 'sql']\",\n",
              "       \"['python', 'machine learning', 'deep learning', 'azure', 'sql', 'hadoop']\",\n",
              "       \"['python', 'machine learning', 'deep learning', 'tableau', 'sql']\",\n",
              "       \"['python', 'machine learning', 'aws', 'azure', 'sql']\",\n",
              "       \"['machine learning', 'sql']\",\n",
              "       \"['python', 'machine learning', 'deep learning', 'sql']\",\n",
              "       \"['pytorch', 'python', 'machine learning', 'deep learning']\",\n",
              "       \"['tableau']\", \"['python', 'numpy', 'pandas', 'sql']\",\n",
              "       \"['tensorflow', 'pytorch', 'python', 'machine learning', 'hadoop']\",\n",
              "       \"['python', 'machine learning', 'tableau', 'sql', 'kafka', 'hadoop']\",\n",
              "       \"['python', 'aws', 'sql']\",\n",
              "       \"['tensorflow', 'pytorch', 'python', 'machine learning', 'docker', 'sql', 'airflow']\",\n",
              "       \"['aws', 'sql']\", \"['git']\",\n",
              "       \"['python', 'machine learning', 'tableau', 'aws', 'sql']\",\n",
              "       \"['python', 'machine learning', 'tableau', 'aws', 'azure', 'sql', 'git']\",\n",
              "       \"['python', 'machine learning', 'aws', 'azure']\",\n",
              "       \"['tensorflow', 'pytorch', 'python', 'machine learning', 'deep learning', 'azure', 'docker', 'sql', 'hadoop', 'apache spark']\",\n",
              "       \"['tensorflow', 'pytorch', 'python', 'machine learning', 'deep learning', 'tableau', 'aws', 'docker', 'airflow']\",\n",
              "       \"['python', 'tableau', 'git']\",\n",
              "       \"['tensorflow', 'machine learning', 'tableau', 'aws', 'etl', 'sql']\",\n",
              "       \"['tensorflow', 'pytorch', 'python', 'pandas', 'machine learning', 'deep learning', 'aws', 'azure', 'docker', 'gcp', 'sql', 'airflow', 'pyspark']\",\n",
              "       \"['python', 'pandas', 'machine learning', 'aws', 'azure', 'docker', 'gcp', 'nosql', 'etl', 'sql', 'airflow', 'git', 'kafka', 'pyspark']\",\n",
              "       \"['tensorflow', 'pytorch', 'python', 'machine learning', 'deep learning', 'tableau', 'etl', 'sql']\",\n",
              "       \"['python', 'machine learning', 'mysql', 'nosql', 'sql', 'kafka', 'hadoop']\",\n",
              "       \"['machine learning', 'mysql', 'kafka', 'hadoop']\",\n",
              "       \"['machine learning', 'deep learning']\",\n",
              "       \"['python', 'machine learning', 'aws', 'azure', 'gcp', 'sql', 'pyspark']\",\n",
              "       \"['tensorflow', 'python', 'deep learning', 'aws', 'azure']\",\n",
              "       \"['python', 'tableau', 'postgresql', 'sql']\",\n",
              "       \"['machine learning', 'tableau', 'aws', 'docker', 'kafka']\",\n",
              "       \"['python', 'machine learning', 'docker']\",\n",
              "       \"['tensorflow', 'pytorch', 'python', 'machine learning', 'aws', 'docker', 'gcp', 'airflow']\",\n",
              "       \"['machine learning', 'etl']\",\n",
              "       \"['tensorflow', 'pytorch', 'python', 'numpy', 'machine learning', 'deep learning', 'aws', 'azure', 'gcp']\",\n",
              "       \"['python', 'aws', 'etl', 'sql', 'git', 'hadoop', 'apache spark']\",\n",
              "       \"['tableau', 'azure', 'sql']\",\n",
              "       \"['tensorflow', 'pytorch', 'python', 'machine learning', 'deep learning', 'aws', 'azure', 'gcp']\",\n",
              "       \"['python', 'docker']\",\n",
              "       \"['python', 'machine learning', 'tableau', 'sql', 'airflow', 'kafka']\",\n",
              "       \"['tensorflow', 'python', 'machine learning', 'aws', 'etl', 'sql', 'kafka']\",\n",
              "       \"['machine learning', 'hadoop']\",\n",
              "       \"['python', 'pandas', 'machine learning', 'tableau', 'sql']\",\n",
              "       \"['python', 'machine learning', 'tableau', 'aws', 'etl', 'sql', 'apache spark']\",\n",
              "       \"['azure', 'etl']\",\n",
              "       \"['tensorflow', 'python', 'pandas', 'machine learning', 'azure', 'hadoop']\",\n",
              "       \"['tensorflow', 'pytorch', 'python', 'machine learning', 'aws', 'etl', 'sql', 'kafka']\",\n",
              "       \"['python', 'azure', 'sql']\",\n",
              "       \"['python', 'machine learning', 'azure', 'nosql', 'etl', 'sql', 'hadoop']\",\n",
              "       \"['python', 'aws', 'etl', 'sql', 'git']\",\n",
              "       \"['python', 'machine learning', 'tableau', 'pyspark']\",\n",
              "       \"['numpy', 'machine learning']\",\n",
              "       \"['python', 'numpy', 'pandas', 'machine learning', 'aws', 'sql', 'git', 'pyspark']\",\n",
              "       \"['machine learning', 'mysql', 'sql']\",\n",
              "       \"['tensorflow', 'pytorch', 'python', 'machine learning', 'aws', 'azure', 'sql']\",\n",
              "       \"['tensorflow', 'pytorch', 'python', 'machine learning', 'deep learning', 'tableau', 'azure', 'gcp', 'sql', 'hadoop']\",\n",
              "       \"['pytorch', 'python', 'machine learning', 'deep learning', 'aws', 'gcp', 'sql']\",\n",
              "       \"['tensorflow', 'pytorch', 'machine learning', 'deep learning', 'apache spark']\",\n",
              "       \"['tensorflow', 'pytorch', 'python', 'machine learning', 'tableau', 'aws', 'azure', 'etl', 'sql', 'hadoop']\",\n",
              "       \"['python', 'machine learning', 'aws', 'docker', 'sql', 'airflow', 'kafka']\",\n",
              "       \"['python', 'pandas']\",\n",
              "       \"['tensorflow', 'pytorch', 'python', 'machine learning', 'deep learning', 'docker', 'mysql']\"],\n",
              "      dtype=object)"
            ]
          },
          "execution_count": 7,
          "metadata": {},
          "output_type": "execute_result"
        }
      ],
      "source": [
        "data['Identified_Skills'].unique()\n"
      ]
    },
    {
      "cell_type": "markdown",
      "metadata": {
        "id": "nqyh8HLZmJTt"
      },
      "source": [
        "Technical skills found from over all job\n",
        "\n",
        "'python', 'machine learning', 'aws', 'docker', 'sql', 'airflow', 'kafka' ,'tensorflow', 'pytorch','deep learning', 'mysql','git',\n",
        "azure', 'nosql', 'etl', 'sql', 'hadoop', 'pyspark',,'pandas', 'tableau','gcp','apache spark','postgresql'"
      ]
    },
    {
      "cell_type": "code",
      "execution_count": null,
      "metadata": {
        "colab": {
          "background_save": true
        },
        "id": "TUZkpd9PxUnR",
        "outputId": "cc7df91f-4114-4781-e43a-c14b378a742a"
      },
      "outputs": [
        {
          "data": {
            "text/plain": [
              "Title                0\n",
              "Company              0\n",
              "Location             0\n",
              "Type of Positions    0\n",
              "Salary               0\n",
              "Identified_Skills    0\n",
              "dtype: int64"
            ]
          },
          "execution_count": 8,
          "metadata": {},
          "output_type": "execute_result"
        }
      ],
      "source": [
        "data.isnull().sum()"
      ]
    },
    {
      "cell_type": "code",
      "execution_count": null,
      "metadata": {
        "colab": {
          "background_save": true
        },
        "id": "3vxnambq1cym",
        "outputId": "b9fa9d7d-28b9-486e-f32a-f8aa03b474ab"
      },
      "outputs": [
        {
          "data": {
            "text/plain": [
              "<Axes: xlabel='Salary', ylabel='Count'>"
            ]
          },
          "execution_count": 9,
          "metadata": {},
          "output_type": "execute_result"
        },
        {
          "data": {
            "image/png": "[encoded data removed]",
            "text/plain": [
              "<Figure size 1200x1200 with 1 Axes>"
            ]
          },
          "metadata": {},
          "output_type": "display_data"
        }
      ],
      "source": [
        "plt.figure(figsize=(12,12))\n",
        "sns.histplot(data=data, x='Salary', kde=True)\n",
        "\n"
      ]
    },
    {
      "cell_type": "code",
      "execution_count": null,
      "metadata": {
        "colab": {
          "background_save": true
        },
        "id": "cbJiKGuP5dpR",
        "outputId": "c3f6ba2d-27b5-47e7-a872-02855e9fd9eb"
      },
      "outputs": [
        {
          "data": {
            "text/plain": [
              "<Axes: xlabel='Type of Positions', ylabel='count'>"
            ]
          },
          "execution_count": 10,
          "metadata": {},
          "output_type": "execute_result"
        },
        {
          "data": {
            "image/png": "[encoded data removed]",
            "text/plain": [
              "<Figure size 400x800 with 1 Axes>"
            ]
          },
          "metadata": {},
          "output_type": "display_data"
        }
      ],
      "source": [
        "plt.figure(figsize=(4,8))\n",
        "sns.countplot(data=data ,x='Type of Positions')"
      ]
    },
    {
      "cell_type": "code",
      "execution_count": null,
      "metadata": {
        "colab": {
          "background_save": true
        },
        "id": "ECzE-NCs_EgZ"
      },
      "outputs": [],
      "source": [
        "python=[]\n",
        "for x in data['Identified_Skills']:\n",
        "  if 'python' in str(x) :\n",
        "    python.append(1)\n",
        "  else:\n",
        "    python.append(0)\n"
      ]
    },
    {
      "cell_type": "code",
      "execution_count": null,
      "metadata": {
        "colab": {
          "background_save": true
        },
        "id": "KnWbgQt7Blku"
      },
      "outputs": [],
      "source": [
        "data['Python']= pd.DataFrame(data=python)"
      ]
    },
    {
      "cell_type": "code",
      "execution_count": null,
      "metadata": {
        "colab": {
          "background_save": true
        },
        "id": "HDjuabOkB37B"
      },
      "outputs": [],
      "source": [
        "sql =[]\n",
        "for x in data['Identified_Skills']:\n",
        "  if 'sql' in str(x) or 'mysql' in str(x) or 'postgresql' in str(x):\n",
        "    sql.append(1)\n",
        "  else:\n",
        "    sql.append(0)\n"
      ]
    },
    {
      "cell_type": "code",
      "execution_count": null,
      "metadata": {
        "colab": {
          "background_save": true
        },
        "id": "V8A2UgKOCTpE"
      },
      "outputs": [],
      "source": [
        "data['SQL']= pd.DataFrame(data=sql)"
      ]
    },
    {
      "cell_type": "code",
      "execution_count": null,
      "metadata": {
        "colab": {
          "background_save": true
        },
        "id": "0Uzz-xs-FN9h"
      },
      "outputs": [],
      "source": [
        "nosql =[]\n",
        "for x in data['Identified_Skills']:\n",
        "  if 'nosql' in str(x):\n",
        "    nosql.append(1)\n",
        "  else:\n",
        "    nosql.append(0)"
      ]
    },
    {
      "cell_type": "code",
      "execution_count": null,
      "metadata": {
        "colab": {
          "background_save": true
        },
        "id": "l_26yTnHLpN2"
      },
      "outputs": [],
      "source": [
        "data['NOSQL']= pd.DataFrame(data=nosql)"
      ]
    },
    {
      "cell_type": "code",
      "execution_count": null,
      "metadata": {
        "colab": {
          "background_save": true
        },
        "id": "auu9qTPiCc-Y"
      },
      "outputs": [],
      "source": [
        "ML=[]\n",
        "for x in data['Identified_Skills']:\n",
        "  if 'machine learning' in str(x) or 'deep learning' in str(x) :\n",
        "    ML.append(1)\n",
        "  else:\n",
        "    ML.append(0)"
      ]
    },
    {
      "cell_type": "code",
      "execution_count": null,
      "metadata": {
        "colab": {
          "background_save": true
        },
        "id": "-iPynq0JLv1_"
      },
      "outputs": [],
      "source": [
        "data['Machine learning /deep learning']= pd.DataFrame(data=ML)"
      ]
    },
    {
      "cell_type": "code",
      "execution_count": null,
      "metadata": {
        "colab": {
          "background_save": true
        },
        "id": "ygwLv6jfEc1f"
      },
      "outputs": [],
      "source": [
        "ETL=[]\n",
        "for x in data['Identified_Skills']:\n",
        "  if 'etl' in str(x):\n",
        "    ETL.append(1)\n",
        "  else:\n",
        "    ETL.append(0)"
      ]
    },
    {
      "cell_type": "code",
      "execution_count": null,
      "metadata": {
        "colab": {
          "background_save": true
        },
        "id": "Svvc14MQL6gV"
      },
      "outputs": [],
      "source": [
        "data['ETL']= pd.DataFrame(data=ETL)"
      ]
    },
    {
      "cell_type": "code",
      "execution_count": null,
      "metadata": {
        "colab": {
          "background_save": true
        },
        "id": "MvNTNxamE58Z"
      },
      "outputs": [],
      "source": [
        "git=[]\n",
        "for x in data['Identified_Skills']:\n",
        "  if 'git' in str(x) or 'github' in str(x):\n",
        "    git.append(1)\n",
        "  else:\n",
        "    git.append(0)"
      ]
    },
    {
      "cell_type": "code",
      "execution_count": null,
      "metadata": {
        "colab": {
          "background_save": true
        },
        "id": "o7ff3e8xMIrJ"
      },
      "outputs": [],
      "source": [
        "data['Github']= pd.DataFrame(data=git)"
      ]
    },
    {
      "cell_type": "code",
      "execution_count": null,
      "metadata": {
        "colab": {
          "background_save": true
        },
        "id": "dp9cx7cFFl27"
      },
      "outputs": [],
      "source": [
        "clouddatabase=[]\n",
        "for x in data['Identified_Skills']:\n",
        "  if 'aws' in str(x) or 'azure' in str(x):\n",
        "    clouddatabase.append(1)\n",
        "  else:\n",
        "    clouddatabase.append(0)"
      ]
    },
    {
      "cell_type": "code",
      "execution_count": null,
      "metadata": {
        "colab": {
          "background_save": true
        },
        "id": "zwRVWLMEMPXN"
      },
      "outputs": [],
      "source": [
        "data['cloud_data_base -aws/azure']= pd.DataFrame(data=clouddatabase)"
      ]
    },
    {
      "cell_type": "code",
      "execution_count": null,
      "metadata": {
        "colab": {
          "background_save": true
        },
        "id": "j-HVKZVqF-eT"
      },
      "outputs": [],
      "source": [
        "docker=[]\n",
        "\n",
        "for x in data['Identified_Skills']:\n",
        "  if 'docker' in str(x):\n",
        "    docker.append(1)\n",
        "  else:\n",
        "    docker.append(0)"
      ]
    },
    {
      "cell_type": "code",
      "execution_count": null,
      "metadata": {
        "colab": {
          "background_save": true
        },
        "id": "e-FWNvxeMXBq"
      },
      "outputs": [],
      "source": [
        "data['docker']= pd.DataFrame(data=docker)"
      ]
    },
    {
      "cell_type": "code",
      "execution_count": null,
      "metadata": {
        "colab": {
          "background_save": true
        },
        "id": "3aJ9cJxcGSab"
      },
      "outputs": [],
      "source": [
        "cloud_engine=[]\n",
        "\n",
        "for x in data['Identified_Skills']:\n",
        "  if 'airflow' in str(x) or 'kafka' in str(x) or 'gcp' in str(x):\n",
        "    cloud_engine.append(1)\n",
        "  else:\n",
        "    cloud_engine.append(0)\n",
        "\n",
        "\n"
      ]
    },
    {
      "cell_type": "code",
      "execution_count": null,
      "metadata": {
        "colab": {
          "background_save": true
        },
        "id": "pQ2MSLDHMcvc"
      },
      "outputs": [],
      "source": [
        "data['cloud_engine-airflow/kafka/gcp']= pd.DataFrame(data=cloud_engine)"
      ]
    },
    {
      "cell_type": "code",
      "execution_count": null,
      "metadata": {
        "colab": {
          "background_save": true
        },
        "id": "K-Y1ONHMHQ8G"
      },
      "outputs": [],
      "source": [
        "big_data_tools=[]\n",
        "for x in data['Identified_Skills']:\n",
        "  if 'hadoop' in str(x) or 'apache spark' in str(x):\n",
        "    big_data_tools.append(1)\n",
        "  else:\n",
        "    big_data_tools.append(0)"
      ]
    },
    {
      "cell_type": "code",
      "execution_count": null,
      "metadata": {
        "colab": {
          "background_save": true
        },
        "id": "IA-dO3xrMhO5"
      },
      "outputs": [],
      "source": [
        "data['big_data_tools-hadoop/apache spark']= pd.DataFrame(data=big_data_tools)"
      ]
    },
    {
      "cell_type": "code",
      "execution_count": null,
      "metadata": {
        "colab": {
          "background_save": true
        },
        "id": "Ia7IWIuqIbWy"
      },
      "outputs": [],
      "source": [
        "vis_t=[]\n",
        "for x in data['Identified_Skills']:\n",
        "  if 'tableau' in str(x) :\n",
        "    vis_t.append(1)\n",
        "  else:\n",
        "    vis_t.append(0)"
      ]
    },
    {
      "cell_type": "code",
      "execution_count": null,
      "metadata": {
        "colab": {
          "background_save": true
        },
        "id": "ik7vtLYeMm_y"
      },
      "outputs": [],
      "source": [
        "data['tableau']= pd.DataFrame(data=vis_t)"
      ]
    },
    {
      "cell_type": "code",
      "execution_count": null,
      "metadata": {
        "colab": {
          "background_save": true
        },
        "id": "dXGt36ZkI9ue"
      },
      "outputs": [],
      "source": [
        "lib=[]\n",
        "for x in data['Identified_Skills']:\n",
        "  if 'numpy' in str(x)  or 'pandas' in str(x) or 'tensorflow' in str(x) or 'pytorch' in str(x):\n",
        "    lib.append(1)\n",
        "  else:\n",
        "    lib.append(0)"
      ]
    },
    {
      "cell_type": "code",
      "execution_count": null,
      "metadata": {
        "colab": {
          "background_save": true
        },
        "id": "uB4-qhHRMsxl"
      },
      "outputs": [],
      "source": [
        "data['lib-numpy/pandas/tensorflow/pytorch']= pd.DataFrame(data=lib)"
      ]
    },
    {
      "cell_type": "code",
      "execution_count": null,
      "metadata": {
        "colab": {
          "background_save": true
        },
        "id": "pJrQA8dLMyCU",
        "outputId": "d0a675cb-131e-4d15-af62-a5428411e5f1"
      },
      "outputs": [
        {
          "data": {
            "application/vnd.google.colaboratory.intrinsic+json": {
              "summary": "{\n  \"name\": \"data\",\n  \"rows\": 634,\n  \"fields\": [\n    {\n      \"column\": \"Title\",\n      \"properties\": {\n        \"dtype\": \"category\",\n        \"num_unique_values\": 177,\n        \"samples\": [\n          \"Full Stack Data Engineer\",\n          \"DIRECTOR OF ARTIFICIAL INTELLIGENCE ENABLEMENT\",\n          \"AVP, Mortgage Portfolio Analytics - 100% Remote\"\n        ],\n        \"semantic_type\": \"\",\n        \"description\": \"\"\n      }\n    },\n    {\n      \"column\": \"Company\",\n      \"properties\": {\n        \"dtype\": \"category\",\n        \"num_unique_values\": 176,\n        \"samples\": [\n          \"Airbnb\",\n          \"Lendistry\",\n          \"Confluent\"\n        ],\n        \"semantic_type\": \"\",\n        \"description\": \"\"\n      }\n    },\n    {\n      \"column\": \"Location\",\n      \"properties\": {\n        \"dtype\": \"category\",\n        \"num_unique_values\": 36,\n        \"samples\": [\n          \"AK\",\n          \"OH\",\n          \"KS\"\n        ],\n        \"semantic_type\": \"\",\n        \"description\": \"\"\n      }\n    },\n    {\n      \"column\": \"Type of Positions\",\n      \"properties\": {\n        \"dtype\": \"category\",\n        \"num_unique_values\": 1,\n        \"samples\": [\n          \"Full-time\"\n        ],\n        \"semantic_type\": \"\",\n        \"description\": \"\"\n      }\n    },\n    {\n      \"column\": \"Salary\",\n      \"properties\": {\n        \"dtype\": \"number\",\n        \"std\": 36752,\n        \"min\": 7315,\n        \"max\": 268000,\n        \"num_unique_values\": 152,\n        \"samples\": [\n          69107\n        ],\n        \"semantic_type\": \"\",\n        \"description\": \"\"\n      }\n    },\n    {\n      \"column\": \"Identified_Skills\",\n      \"properties\": {\n        \"dtype\": \"category\",\n        \"num_unique_values\": 131,\n        \"samples\": [\n          \"['python', 'machine learning', 'deep learning', 'aws', 'gcp', 'sql']\"\n        ],\n        \"semantic_type\": \"\",\n        \"description\": \"\"\n      }\n    },\n    {\n      \"column\": \"Python\",\n      \"properties\": {\n        \"dtype\": \"number\",\n        \"std\": 0,\n        \"min\": 0,\n        \"max\": 1,\n        \"num_unique_values\": 2,\n        \"samples\": [\n          0\n        ],\n        \"semantic_type\": \"\",\n        \"description\": \"\"\n      }\n    },\n    {\n      \"column\": \"SQL\",\n      \"properties\": {\n        \"dtype\": \"number\",\n        \"std\": 0,\n        \"min\": 0,\n        \"max\": 1,\n        \"num_unique_values\": 2,\n        \"samples\": [\n          0\n        ],\n        \"semantic_type\": \"\",\n        \"description\": \"\"\n      }\n    },\n    {\n      \"column\": \"NOSQL\",\n      \"properties\": {\n        \"dtype\": \"number\",\n        \"std\": 0,\n        \"min\": 0,\n        \"max\": 1,\n        \"num_unique_values\": 2,\n        \"samples\": [\n          1\n        ],\n        \"semantic_type\": \"\",\n        \"description\": \"\"\n      }\n    },\n    {\n      \"column\": \"Machine learning /deep learning\",\n      \"properties\": {\n        \"dtype\": \"number\",\n        \"std\": 0,\n        \"min\": 0,\n        \"max\": 1,\n        \"num_unique_values\": 2,\n        \"samples\": [\n          0\n        ],\n        \"semantic_type\": \"\",\n        \"description\": \"\"\n      }\n    },\n    {\n      \"column\": \"ETL\",\n      \"properties\": {\n        \"dtype\": \"number\",\n        \"std\": 0,\n        \"min\": 0,\n        \"max\": 1,\n        \"num_unique_values\": 2,\n        \"samples\": [\n          1\n        ],\n        \"semantic_type\": \"\",\n        \"description\": \"\"\n      }\n    },\n    {\n      \"column\": \"Github\",\n      \"properties\": {\n        \"dtype\": \"number\",\n        \"std\": 0,\n        \"min\": 0,\n        \"max\": 1,\n        \"num_unique_values\": 2,\n        \"samples\": [\n          1\n        ],\n        \"semantic_type\": \"\",\n        \"description\": \"\"\n      }\n    },\n    {\n      \"column\": \"cloud_data_base -aws/azure\",\n      \"properties\": {\n        \"dtype\": \"number\",\n        \"std\": 0,\n        \"min\": 0,\n        \"max\": 1,\n        \"num_unique_values\": 2,\n        \"samples\": [\n          0\n        ],\n        \"semantic_type\": \"\",\n        \"description\": \"\"\n      }\n    },\n    {\n      \"column\": \"docker\",\n      \"properties\": {\n        \"dtype\": \"number\",\n        \"std\": 0,\n        \"min\": 0,\n        \"max\": 1,\n        \"num_unique_values\": 2,\n        \"samples\": [\n          1\n        ],\n        \"semantic_type\": \"\",\n        \"description\": \"\"\n      }\n    },\n    {\n      \"column\": \"cloud_engine-airflow/kafka/gcp\",\n      \"properties\": {\n        \"dtype\": \"number\",\n        \"std\": 0,\n        \"min\": 0,\n        \"max\": 1,\n        \"num_unique_values\": 2,\n        \"samples\": [\n          1\n        ],\n        \"semantic_type\": \"\",\n        \"description\": \"\"\n      }\n    },\n    {\n      \"column\": \"big_data_tools-hadoop/apache spark\",\n      \"properties\": {\n        \"dtype\": \"number\",\n        \"std\": 0,\n        \"min\": 0,\n        \"max\": 1,\n        \"num_unique_values\": 2,\n        \"samples\": [\n          1\n        ],\n        \"semantic_type\": \"\",\n        \"description\": \"\"\n      }\n    },\n    {\n      \"column\": \"tableau\",\n      \"properties\": {\n        \"dtype\": \"number\",\n        \"std\": 0,\n        \"min\": 0,\n        \"max\": 1,\n        \"num_unique_values\": 2,\n        \"samples\": [\n          1\n        ],\n        \"semantic_type\": \"\",\n        \"description\": \"\"\n      }\n    },\n    {\n      \"column\": \"lib-numpy/pandas/tensorflow/pytorch\",\n      \"properties\": {\n        \"dtype\": \"number\",\n        \"std\": 0,\n        \"min\": 0,\n        \"max\": 1,\n        \"num_unique_values\": 2,\n        \"samples\": [\n          1\n        ],\n        \"semantic_type\": \"\",\n        \"description\": \"\"\n      }\n    }\n  ]\n}",
              "type": "dataframe",
              "variable_name": "data"
            },
            "text/html": [
              "\n",
              "  <div id=\"df-41342e37-5250-452f-bdb4-a23a705f5390\" class=\"colab-df-container\">\n",
              "    <div>\n",
              "<style scoped>\n",
              "    .dataframe tbody tr th:only-of-type {\n",
              "        vertical-align: middle;\n",
              "    }\n",
              "\n",
              "    .dataframe tbody tr th {\n",
              "        vertical-align: top;\n",
              "    }\n",
              "\n",
              "    .dataframe thead th {\n",
              "        text-align: right;\n",
              "    }\n",
              "</style>\n",
              "<table border=\"1\" class=\"dataframe\">\n",
              "  <thead>\n",
              "    <tr style=\"text-align: right;\">\n",
              "      <th></th>\n",
              "      <th>Title</th>\n",
              "      <th>Company</th>\n",
              "      <th>Location</th>\n",
              "      <th>Type of Positions</th>\n",
              "      <th>Salary</th>\n",
              "      <th>Identified_Skills</th>\n",
              "      <th>Python</th>\n",
              "      <th>SQL</th>\n",
              "      <th>NOSQL</th>\n",
              "      <th>Machine learning /deep learning</th>\n",
              "      <th>ETL</th>\n",
              "      <th>Github</th>\n",
              "      <th>cloud_data_base -aws/azure</th>\n",
              "      <th>docker</th>\n",
              "      <th>cloud_engine-airflow/kafka/gcp</th>\n",
              "      <th>big_data_tools-hadoop/apache spark</th>\n",
              "      <th>tableau</th>\n",
              "      <th>lib-numpy/pandas/tensorflow/pytorch</th>\n",
              "    </tr>\n",
              "  </thead>\n",
              "  <tbody>\n",
              "    <tr>\n",
              "      <th>0</th>\n",
              "      <td>Staff Applied Scientist, Marketplace</td>\n",
              "      <td>ThredUp Inc.</td>\n",
              "      <td>CA</td>\n",
              "      <td>Full-time</td>\n",
              "      <td>190000</td>\n",
              "      <td>['python', 'machine learning', 'aws', 'sql']</td>\n",
              "      <td>1</td>\n",
              "      <td>1</td>\n",
              "      <td>0</td>\n",
              "      <td>1</td>\n",
              "      <td>0</td>\n",
              "      <td>0</td>\n",
              "      <td>1</td>\n",
              "      <td>0</td>\n",
              "      <td>0</td>\n",
              "      <td>0</td>\n",
              "      <td>0</td>\n",
              "      <td>0</td>\n",
              "    </tr>\n",
              "    <tr>\n",
              "      <th>1</th>\n",
              "      <td>Prompt Engineer for Generative AI (chatbot and...</td>\n",
              "      <td>Vicarious Talent Agency</td>\n",
              "      <td>WA</td>\n",
              "      <td>Full-time</td>\n",
              "      <td>70000</td>\n",
              "      <td>['python', 'machine learning', 'deep learning'...</td>\n",
              "      <td>1</td>\n",
              "      <td>0</td>\n",
              "      <td>0</td>\n",
              "      <td>1</td>\n",
              "      <td>1</td>\n",
              "      <td>0</td>\n",
              "      <td>1</td>\n",
              "      <td>0</td>\n",
              "      <td>0</td>\n",
              "      <td>0</td>\n",
              "      <td>0</td>\n",
              "      <td>0</td>\n",
              "    </tr>\n",
              "    <tr>\n",
              "      <th>2</th>\n",
              "      <td>Data Systems Analyst/Architect</td>\n",
              "      <td>General Dynamics Information Technology</td>\n",
              "      <td>Remote</td>\n",
              "      <td>Full-time</td>\n",
              "      <td>104000</td>\n",
              "      <td>['machine learning', 'aws', 'azure', 'nosql', ...</td>\n",
              "      <td>0</td>\n",
              "      <td>1</td>\n",
              "      <td>1</td>\n",
              "      <td>1</td>\n",
              "      <td>1</td>\n",
              "      <td>0</td>\n",
              "      <td>1</td>\n",
              "      <td>0</td>\n",
              "      <td>0</td>\n",
              "      <td>0</td>\n",
              "      <td>0</td>\n",
              "      <td>0</td>\n",
              "    </tr>\n",
              "    <tr>\n",
              "      <th>3</th>\n",
              "      <td>AIOps Principle Data Scientist</td>\n",
              "      <td>CVS Health</td>\n",
              "      <td>CT</td>\n",
              "      <td>Full-time</td>\n",
              "      <td>140000</td>\n",
              "      <td>['python', 'machine learning', 'aws', 'gcp']</td>\n",
              "      <td>1</td>\n",
              "      <td>0</td>\n",
              "      <td>0</td>\n",
              "      <td>1</td>\n",
              "      <td>0</td>\n",
              "      <td>0</td>\n",
              "      <td>1</td>\n",
              "      <td>0</td>\n",
              "      <td>1</td>\n",
              "      <td>0</td>\n",
              "      <td>0</td>\n",
              "      <td>0</td>\n",
              "    </tr>\n",
              "    <tr>\n",
              "      <th>4</th>\n",
              "      <td>Sr. Data Scientist</td>\n",
              "      <td>Altak Group</td>\n",
              "      <td>Remote</td>\n",
              "      <td>Full-time</td>\n",
              "      <td>136000</td>\n",
              "      <td>['python', 'machine learning', 'tableau', 'aws...</td>\n",
              "      <td>1</td>\n",
              "      <td>1</td>\n",
              "      <td>0</td>\n",
              "      <td>1</td>\n",
              "      <td>0</td>\n",
              "      <td>0</td>\n",
              "      <td>1</td>\n",
              "      <td>0</td>\n",
              "      <td>0</td>\n",
              "      <td>1</td>\n",
              "      <td>1</td>\n",
              "      <td>0</td>\n",
              "    </tr>\n",
              "  </tbody>\n",
              "</table>\n",
              "</div>\n",
              "    <div class=\"colab-df-buttons\">\n",
              "\n",
              "  <div class=\"colab-df-container\">\n",
              "    <button class=\"colab-df-convert\" onclick=\"convertToInteractive('df-41342e37-5250-452f-bdb4-a23a705f5390')\"\n",
              "            title=\"Convert this dataframe to an interactive table.\"\n",
              "            style=\"display:none;\">\n",
              "\n",
              "  <svg xmlns=\"http://www.w3.org/2000/svg\" height=\"24px\" viewBox=\"0 -960 960 960\">\n",
              "    <path d=\"M120-120v-720h720v720H120Zm60-500h600v-160H180v160Zm220 220h160v-160H400v160Zm0 220h160v-160H400v160ZM180-400h160v-160H180v160Zm440 0h160v-160H620v160ZM180-180h160v-160H180v160Zm440 0h160v-160H620v160Z\"/>\n",
              "  </svg>\n",
              "    </button>\n",
              "\n",
              "  <style>\n",
              "    .colab-df-container {\n",
              "      display:flex;\n",
              "      gap: 12px;\n",
              "    }\n",
              "\n",
              "    .colab-df-convert {\n",
              "      background-color: #E8F0FE;\n",
              "      border: none;\n",
              "      border-radius: 50%;\n",
              "      cursor: pointer;\n",
              "      display: none;\n",
              "      fill: #1967D2;\n",
              "      height: 32px;\n",
              "      padding: 0 0 0 0;\n",
              "      width: 32px;\n",
              "    }\n",
              "\n",
              "    .colab-df-convert:hover {\n",
              "      background-color: #E2EBFA;\n",
              "      box-shadow: 0px 1px 2px rgba(60, 64, 67, 0.3), 0px 1px 3px 1px rgba(60, 64, 67, 0.15);\n",
              "      fill: #174EA6;\n",
              "    }\n",
              "\n",
              "    .colab-df-buttons div {\n",
              "      margin-bottom: 4px;\n",
              "    }\n",
              "\n",
              "    [theme=dark] .colab-df-convert {\n",
              "      background-color: #3B4455;\n",
              "      fill: #D2E3FC;\n",
              "    }\n",
              "\n",
              "    [theme=dark] .colab-df-convert:hover {\n",
              "      background-color: #434B5C;\n",
              "      box-shadow: 0px 1px 3px 1px rgba(0, 0, 0, 0.15);\n",
              "      filter: drop-shadow(0px 1px 2px rgba(0, 0, 0, 0.3));\n",
              "      fill: #FFFFFF;\n",
              "    }\n",
              "  </style>\n",
              "\n",
              "    <script>\n",
              "      const buttonEl =\n",
              "        document.querySelector('#df-41342e37-5250-452f-bdb4-a23a705f5390 button.colab-df-convert');\n",
              "      buttonEl.style.display =\n",
              "        google.colab.kernel.accessAllowed ? 'block' : 'none';\n",
              "\n",
              "      async function convertToInteractive(key) {\n",
              "        const element = document.querySelector('#df-41342e37-5250-452f-bdb4-a23a705f5390');\n",
              "        const dataTable =\n",
              "          await google.colab.kernel.invokeFunction('convertToInteractive',\n",
              "                                                    [key], {});\n",
              "        if (!dataTable) return;\n",
              "\n",
              "        const docLinkHtml = 'Like what you see? Visit the ' +\n",
              "          '<a target=\"_blank\" href=https://colab.research.google.com/notebooks/data_table.ipynb>data table notebook</a>'\n",
              "          + ' to learn more about interactive tables.';\n",
              "        element.innerHTML = '';\n",
              "        dataTable['output_type'] = 'display_data';\n",
              "        await google.colab.output.renderOutput(dataTable, element);\n",
              "        const docLink = document.createElement('div');\n",
              "        docLink.innerHTML = docLinkHtml;\n",
              "        element.appendChild(docLink);\n",
              "      }\n",
              "    </script>\n",
              "  </div>\n",
              "\n",
              "\n",
              "<div id=\"df-787c9e92-2c22-4f13-8215-5ac55a8df34a\">\n",
              "  <button class=\"colab-df-quickchart\" onclick=\"quickchart('df-787c9e92-2c22-4f13-8215-5ac55a8df34a')\"\n",
              "            title=\"Suggest charts\"\n",
              "            style=\"display:none;\">\n",
              "\n",
              "<svg xmlns=\"http://www.w3.org/2000/svg\" height=\"24px\"viewBox=\"0 0 24 24\"\n",
              "     width=\"24px\">\n",
              "    <g>\n",
              "        <path d=\"M19 3H5c-1.1 0-2 .9-2 2v14c0 1.1.9 2 2 2h14c1.1 0 2-.9 2-2V5c0-1.1-.9-2-2-2zM9 17H7v-7h2v7zm4 0h-2V7h2v10zm4 0h-2v-4h2v4z\"/>\n",
              "    </g>\n",
              "</svg>\n",
              "  </button>\n",
              "\n",
              "<style>\n",
              "  .colab-df-quickchart {\n",
              "      --bg-color: #E8F0FE;\n",
              "      --fill-color: #1967D2;\n",
              "      --hover-bg-color: #E2EBFA;\n",
              "      --hover-fill-color: #174EA6;\n",
              "      --disabled-fill-color: #AAA;\n",
              "      --disabled-bg-color: #DDD;\n",
              "  }\n",
              "\n",
              "  [theme=dark] .colab-df-quickchart {\n",
              "      --bg-color: #3B4455;\n",
              "      --fill-color: #D2E3FC;\n",
              "      --hover-bg-color: #434B5C;\n",
              "      --hover-fill-color: #FFFFFF;\n",
              "      --disabled-bg-color: #3B4455;\n",
              "      --disabled-fill-color: #666;\n",
              "  }\n",
              "\n",
              "  .colab-df-quickchart {\n",
              "    background-color: var(--bg-color);\n",
              "    border: none;\n",
              "    border-radius: 50%;\n",
              "    cursor: pointer;\n",
              "    display: none;\n",
              "    fill: var(--fill-color);\n",
              "    height: 32px;\n",
              "    padding: 0;\n",
              "    width: 32px;\n",
              "  }\n",
              "\n",
              "  .colab-df-quickchart:hover {\n",
              "    background-color: var(--hover-bg-color);\n",
              "    box-shadow: 0 1px 2px rgba(60, 64, 67, 0.3), 0 1px 3px 1px rgba(60, 64, 67, 0.15);\n",
              "    fill: var(--button-hover-fill-color);\n",
              "  }\n",
              "\n",
              "  .colab-df-quickchart-complete:disabled,\n",
              "  .colab-df-quickchart-complete:disabled:hover {\n",
              "    background-color: var(--disabled-bg-color);\n",
              "    fill: var(--disabled-fill-color);\n",
              "    box-shadow: none;\n",
              "  }\n",
              "\n",
              "  .colab-df-spinner {\n",
              "    border: 2px solid var(--fill-color);\n",
              "    border-color: transparent;\n",
              "    border-bottom-color: var(--fill-color);\n",
              "    animation:\n",
              "      spin 1s steps(1) infinite;\n",
              "  }\n",
              "\n",
              "  @keyframes spin {\n",
              "    0% {\n",
              "      border-color: transparent;\n",
              "      border-bottom-color: var(--fill-color);\n",
              "      border-left-color: var(--fill-color);\n",
              "    }\n",
              "    20% {\n",
              "      border-color: transparent;\n",
              "      border-left-color: var(--fill-color);\n",
              "      border-top-color: var(--fill-color);\n",
              "    }\n",
              "    30% {\n",
              "      border-color: transparent;\n",
              "      border-left-color: var(--fill-color);\n",
              "      border-top-color: var(--fill-color);\n",
              "      border-right-color: var(--fill-color);\n",
              "    }\n",
              "    40% {\n",
              "      border-color: transparent;\n",
              "      border-right-color: var(--fill-color);\n",
              "      border-top-color: var(--fill-color);\n",
              "    }\n",
              "    60% {\n",
              "      border-color: transparent;\n",
              "      border-right-color: var(--fill-color);\n",
              "    }\n",
              "    80% {\n",
              "      border-color: transparent;\n",
              "      border-right-color: var(--fill-color);\n",
              "      border-bottom-color: var(--fill-color);\n",
              "    }\n",
              "    90% {\n",
              "      border-color: transparent;\n",
              "      border-bottom-color: var(--fill-color);\n",
              "    }\n",
              "  }\n",
              "</style>\n",
              "\n",
              "  <script>\n",
              "    async function quickchart(key) {\n",
              "      const quickchartButtonEl =\n",
              "        document.querySelector('#' + key + ' button');\n",
              "      quickchartButtonEl.disabled = true;  // To prevent multiple clicks.\n",
              "      quickchartButtonEl.classList.add('colab-df-spinner');\n",
              "      try {\n",
              "        const charts = await google.colab.kernel.invokeFunction(\n",
              "            'suggestCharts', [key], {});\n",
              "      } catch (error) {\n",
              "        console.error('Error during call to suggestCharts:', error);\n",
              "      }\n",
              "      quickchartButtonEl.classList.remove('colab-df-spinner');\n",
              "      quickchartButtonEl.classList.add('colab-df-quickchart-complete');\n",
              "    }\n",
              "    (() => {\n",
              "      let quickchartButtonEl =\n",
              "        document.querySelector('#df-787c9e92-2c22-4f13-8215-5ac55a8df34a button');\n",
              "      quickchartButtonEl.style.display =\n",
              "        google.colab.kernel.accessAllowed ? 'block' : 'none';\n",
              "    })();\n",
              "  </script>\n",
              "</div>\n",
              "\n",
              "    </div>\n",
              "  </div>\n"
            ],
            "text/plain": [
              "                                               Title  \\\n",
              "0               Staff Applied Scientist, Marketplace   \n",
              "1  Prompt Engineer for Generative AI (chatbot and...   \n",
              "2                     Data Systems Analyst/Architect   \n",
              "3                     AIOps Principle Data Scientist   \n",
              "4                                 Sr. Data Scientist   \n",
              "\n",
              "                                   Company Location Type of Positions  Salary  \\\n",
              "0                             ThredUp Inc.       CA         Full-time  190000   \n",
              "1                  Vicarious Talent Agency       WA         Full-time   70000   \n",
              "2  General Dynamics Information Technology   Remote         Full-time  104000   \n",
              "3                               CVS Health       CT         Full-time  140000   \n",
              "4                              Altak Group   Remote         Full-time  136000   \n",
              "\n",
              "                                   Identified_Skills  Python  SQL  NOSQL  \\\n",
              "0       ['python', 'machine learning', 'aws', 'sql']       1    1      0   \n",
              "1  ['python', 'machine learning', 'deep learning'...       1    0      0   \n",
              "2  ['machine learning', 'aws', 'azure', 'nosql', ...       0    1      1   \n",
              "3       ['python', 'machine learning', 'aws', 'gcp']       1    0      0   \n",
              "4  ['python', 'machine learning', 'tableau', 'aws...       1    1      0   \n",
              "\n",
              "   Machine learning /deep learning  ETL  Github  cloud_data_base -aws/azure  \\\n",
              "0                                1    0       0                           1   \n",
              "1                                1    1       0                           1   \n",
              "2                                1    1       0                           1   \n",
              "3                                1    0       0                           1   \n",
              "4                                1    0       0                           1   \n",
              "\n",
              "   docker  cloud_engine-airflow/kafka/gcp  big_data_tools-hadoop/apache spark  \\\n",
              "0       0                               0                                   0   \n",
              "1       0                               0                                   0   \n",
              "2       0                               0                                   0   \n",
              "3       0                               1                                   0   \n",
              "4       0                               0                                   1   \n",
              "\n",
              "   tableau  lib-numpy/pandas/tensorflow/pytorch  \n",
              "0        0                                    0  \n",
              "1        0                                    0  \n",
              "2        0                                    0  \n",
              "3        0                                    0  \n",
              "4        1                                    0  "
            ]
          },
          "execution_count": 35,
          "metadata": {},
          "output_type": "execute_result"
        }
      ],
      "source": [
        "data.head()"
      ]
    },
    {
      "cell_type": "code",
      "execution_count": null,
      "metadata": {
        "colab": {
          "background_save": true
        },
        "id": "ilJaJmfaOJew"
      },
      "outputs": [],
      "source": [
        "job=[]\n",
        "for x in data['Title']:\n",
        "  if 'AI' in str(x) or 'chatbot' in str(x):\n",
        "    job.append('AI role')\n",
        "  if 'Analyst' in str(x):\n",
        "    job.append('analyst role')\n",
        "  if 'Scientist' in str(x):\n",
        "     job.append('D-Scientist role')\n",
        "  if 'Engineer ' in str(x):\n",
        "    job.append('D-Engineer role')\n",
        "\n"
      ]
    },
    {
      "cell_type": "code",
      "execution_count": null,
      "metadata": {
        "colab": {
          "background_save": true
        },
        "id": "W97YJIjpQkIK"
      },
      "outputs": [],
      "source": [
        "data['JOB TYPE'] = pd.DataFrame(data=job)"
      ]
    },
    {
      "cell_type": "code",
      "execution_count": null,
      "metadata": {
        "colab": {
          "background_save": true
        },
        "id": "1-YqQ5iQQrob",
        "outputId": "bcb59ff6-8e61-4b65-a6de-efe354738e89"
      },
      "outputs": [
        {
          "data": {
            "application/vnd.google.colaboratory.intrinsic+json": {
              "summary": "{\n  \"name\": \"data\",\n  \"rows\": 634,\n  \"fields\": [\n    {\n      \"column\": \"Title\",\n      \"properties\": {\n        \"dtype\": \"category\",\n        \"num_unique_values\": 177,\n        \"samples\": [\n          \"Full Stack Data Engineer\",\n          \"DIRECTOR OF ARTIFICIAL INTELLIGENCE ENABLEMENT\",\n          \"AVP, Mortgage Portfolio Analytics - 100% Remote\"\n        ],\n        \"semantic_type\": \"\",\n        \"description\": \"\"\n      }\n    },\n    {\n      \"column\": \"Company\",\n      \"properties\": {\n        \"dtype\": \"category\",\n        \"num_unique_values\": 176,\n        \"samples\": [\n          \"Airbnb\",\n          \"Lendistry\",\n          \"Confluent\"\n        ],\n        \"semantic_type\": \"\",\n        \"description\": \"\"\n      }\n    },\n    {\n      \"column\": \"Location\",\n      \"properties\": {\n        \"dtype\": \"category\",\n        \"num_unique_values\": 36,\n        \"samples\": [\n          \"AK\",\n          \"OH\",\n          \"KS\"\n        ],\n        \"semantic_type\": \"\",\n        \"description\": \"\"\n      }\n    },\n    {\n      \"column\": \"Type of Positions\",\n      \"properties\": {\n        \"dtype\": \"category\",\n        \"num_unique_values\": 1,\n        \"samples\": [\n          \"Full-time\"\n        ],\n        \"semantic_type\": \"\",\n        \"description\": \"\"\n      }\n    },\n    {\n      \"column\": \"Salary\",\n      \"properties\": {\n        \"dtype\": \"number\",\n        \"std\": 36752,\n        \"min\": 7315,\n        \"max\": 268000,\n        \"num_unique_values\": 152,\n        \"samples\": [\n          69107\n        ],\n        \"semantic_type\": \"\",\n        \"description\": \"\"\n      }\n    },\n    {\n      \"column\": \"Identified_Skills\",\n      \"properties\": {\n        \"dtype\": \"category\",\n        \"num_unique_values\": 131,\n        \"samples\": [\n          \"['python', 'machine learning', 'deep learning', 'aws', 'gcp', 'sql']\"\n        ],\n        \"semantic_type\": \"\",\n        \"description\": \"\"\n      }\n    },\n    {\n      \"column\": \"Python\",\n      \"properties\": {\n        \"dtype\": \"number\",\n        \"std\": 0,\n        \"min\": 0,\n        \"max\": 1,\n        \"num_unique_values\": 2,\n        \"samples\": [\n          0\n        ],\n        \"semantic_type\": \"\",\n        \"description\": \"\"\n      }\n    },\n    {\n      \"column\": \"SQL\",\n      \"properties\": {\n        \"dtype\": \"number\",\n        \"std\": 0,\n        \"min\": 0,\n        \"max\": 1,\n        \"num_unique_values\": 2,\n        \"samples\": [\n          0\n        ],\n        \"semantic_type\": \"\",\n        \"description\": \"\"\n      }\n    },\n    {\n      \"column\": \"NOSQL\",\n      \"properties\": {\n        \"dtype\": \"number\",\n        \"std\": 0,\n        \"min\": 0,\n        \"max\": 1,\n        \"num_unique_values\": 2,\n        \"samples\": [\n          1\n        ],\n        \"semantic_type\": \"\",\n        \"description\": \"\"\n      }\n    },\n    {\n      \"column\": \"Machine learning /deep learning\",\n      \"properties\": {\n        \"dtype\": \"number\",\n        \"std\": 0,\n        \"min\": 0,\n        \"max\": 1,\n        \"num_unique_values\": 2,\n        \"samples\": [\n          0\n        ],\n        \"semantic_type\": \"\",\n        \"description\": \"\"\n      }\n    },\n    {\n      \"column\": \"ETL\",\n      \"properties\": {\n        \"dtype\": \"number\",\n        \"std\": 0,\n        \"min\": 0,\n        \"max\": 1,\n        \"num_unique_values\": 2,\n        \"samples\": [\n          1\n        ],\n        \"semantic_type\": \"\",\n        \"description\": \"\"\n      }\n    },\n    {\n      \"column\": \"Github\",\n      \"properties\": {\n        \"dtype\": \"number\",\n        \"std\": 0,\n        \"min\": 0,\n        \"max\": 1,\n        \"num_unique_values\": 2,\n        \"samples\": [\n          1\n        ],\n        \"semantic_type\": \"\",\n        \"description\": \"\"\n      }\n    },\n    {\n      \"column\": \"cloud_data_base -aws/azure\",\n      \"properties\": {\n        \"dtype\": \"number\",\n        \"std\": 0,\n        \"min\": 0,\n        \"max\": 1,\n        \"num_unique_values\": 2,\n        \"samples\": [\n          0\n        ],\n        \"semantic_type\": \"\",\n        \"description\": \"\"\n      }\n    },\n    {\n      \"column\": \"docker\",\n      \"properties\": {\n        \"dtype\": \"number\",\n        \"std\": 0,\n        \"min\": 0,\n        \"max\": 1,\n        \"num_unique_values\": 2,\n        \"samples\": [\n          1\n        ],\n        \"semantic_type\": \"\",\n        \"description\": \"\"\n      }\n    },\n    {\n      \"column\": \"cloud_engine-airflow/kafka/gcp\",\n      \"properties\": {\n        \"dtype\": \"number\",\n        \"std\": 0,\n        \"min\": 0,\n        \"max\": 1,\n        \"num_unique_values\": 2,\n        \"samples\": [\n          1\n        ],\n        \"semantic_type\": \"\",\n        \"description\": \"\"\n      }\n    },\n    {\n      \"column\": \"big_data_tools-hadoop/apache spark\",\n      \"properties\": {\n        \"dtype\": \"number\",\n        \"std\": 0,\n        \"min\": 0,\n        \"max\": 1,\n        \"num_unique_values\": 2,\n        \"samples\": [\n          1\n        ],\n        \"semantic_type\": \"\",\n        \"description\": \"\"\n      }\n    },\n    {\n      \"column\": \"tableau\",\n      \"properties\": {\n        \"dtype\": \"number\",\n        \"std\": 0,\n        \"min\": 0,\n        \"max\": 1,\n        \"num_unique_values\": 2,\n        \"samples\": [\n          1\n        ],\n        \"semantic_type\": \"\",\n        \"description\": \"\"\n      }\n    },\n    {\n      \"column\": \"lib-numpy/pandas/tensorflow/pytorch\",\n      \"properties\": {\n        \"dtype\": \"number\",\n        \"std\": 0,\n        \"min\": 0,\n        \"max\": 1,\n        \"num_unique_values\": 2,\n        \"samples\": [\n          1\n        ],\n        \"semantic_type\": \"\",\n        \"description\": \"\"\n      }\n    },\n    {\n      \"column\": \"JOB TYPE\",\n      \"properties\": {\n        \"dtype\": \"category\",\n        \"num_unique_values\": 4,\n        \"samples\": [\n          \"AI role\"\n        ],\n        \"semantic_type\": \"\",\n        \"description\": \"\"\n      }\n    }\n  ]\n}",
              "type": "dataframe",
              "variable_name": "data"
            },
            "text/html": [
              "\n",
              "  <div id=\"df-4b51aa20-23a3-4c22-8a27-1b664f4dfb03\" class=\"colab-df-container\">\n",
              "    <div>\n",
              "<style scoped>\n",
              "    .dataframe tbody tr th:only-of-type {\n",
              "        vertical-align: middle;\n",
              "    }\n",
              "\n",
              "    .dataframe tbody tr th {\n",
              "        vertical-align: top;\n",
              "    }\n",
              "\n",
              "    .dataframe thead th {\n",
              "        text-align: right;\n",
              "    }\n",
              "</style>\n",
              "<table border=\"1\" class=\"dataframe\">\n",
              "  <thead>\n",
              "    <tr style=\"text-align: right;\">\n",
              "      <th></th>\n",
              "      <th>Title</th>\n",
              "      <th>Company</th>\n",
              "      <th>Location</th>\n",
              "      <th>Type of Positions</th>\n",
              "      <th>Salary</th>\n",
              "      <th>Identified_Skills</th>\n",
              "      <th>Python</th>\n",
              "      <th>SQL</th>\n",
              "      <th>NOSQL</th>\n",
              "      <th>Machine learning /deep learning</th>\n",
              "      <th>ETL</th>\n",
              "      <th>Github</th>\n",
              "      <th>cloud_data_base -aws/azure</th>\n",
              "      <th>docker</th>\n",
              "      <th>cloud_engine-airflow/kafka/gcp</th>\n",
              "      <th>big_data_tools-hadoop/apache spark</th>\n",
              "      <th>tableau</th>\n",
              "      <th>lib-numpy/pandas/tensorflow/pytorch</th>\n",
              "      <th>JOB TYPE</th>\n",
              "    </tr>\n",
              "  </thead>\n",
              "  <tbody>\n",
              "    <tr>\n",
              "      <th>0</th>\n",
              "      <td>Staff Applied Scientist, Marketplace</td>\n",
              "      <td>ThredUp Inc.</td>\n",
              "      <td>CA</td>\n",
              "      <td>Full-time</td>\n",
              "      <td>190000</td>\n",
              "      <td>['python', 'machine learning', 'aws', 'sql']</td>\n",
              "      <td>1</td>\n",
              "      <td>1</td>\n",
              "      <td>0</td>\n",
              "      <td>1</td>\n",
              "      <td>0</td>\n",
              "      <td>0</td>\n",
              "      <td>1</td>\n",
              "      <td>0</td>\n",
              "      <td>0</td>\n",
              "      <td>0</td>\n",
              "      <td>0</td>\n",
              "      <td>0</td>\n",
              "      <td>D-Scientist role</td>\n",
              "    </tr>\n",
              "    <tr>\n",
              "      <th>1</th>\n",
              "      <td>Prompt Engineer for Generative AI (chatbot and...</td>\n",
              "      <td>Vicarious Talent Agency</td>\n",
              "      <td>WA</td>\n",
              "      <td>Full-time</td>\n",
              "      <td>70000</td>\n",
              "      <td>['python', 'machine learning', 'deep learning'...</td>\n",
              "      <td>1</td>\n",
              "      <td>0</td>\n",
              "      <td>0</td>\n",
              "      <td>1</td>\n",
              "      <td>1</td>\n",
              "      <td>0</td>\n",
              "      <td>1</td>\n",
              "      <td>0</td>\n",
              "      <td>0</td>\n",
              "      <td>0</td>\n",
              "      <td>0</td>\n",
              "      <td>0</td>\n",
              "      <td>AI role</td>\n",
              "    </tr>\n",
              "    <tr>\n",
              "      <th>2</th>\n",
              "      <td>Data Systems Analyst/Architect</td>\n",
              "      <td>General Dynamics Information Technology</td>\n",
              "      <td>Remote</td>\n",
              "      <td>Full-time</td>\n",
              "      <td>104000</td>\n",
              "      <td>['machine learning', 'aws', 'azure', 'nosql', ...</td>\n",
              "      <td>0</td>\n",
              "      <td>1</td>\n",
              "      <td>1</td>\n",
              "      <td>1</td>\n",
              "      <td>1</td>\n",
              "      <td>0</td>\n",
              "      <td>1</td>\n",
              "      <td>0</td>\n",
              "      <td>0</td>\n",
              "      <td>0</td>\n",
              "      <td>0</td>\n",
              "      <td>0</td>\n",
              "      <td>D-Engineer role</td>\n",
              "    </tr>\n",
              "    <tr>\n",
              "      <th>3</th>\n",
              "      <td>AIOps Principle Data Scientist</td>\n",
              "      <td>CVS Health</td>\n",
              "      <td>CT</td>\n",
              "      <td>Full-time</td>\n",
              "      <td>140000</td>\n",
              "      <td>['python', 'machine learning', 'aws', 'gcp']</td>\n",
              "      <td>1</td>\n",
              "      <td>0</td>\n",
              "      <td>0</td>\n",
              "      <td>1</td>\n",
              "      <td>0</td>\n",
              "      <td>0</td>\n",
              "      <td>1</td>\n",
              "      <td>0</td>\n",
              "      <td>1</td>\n",
              "      <td>0</td>\n",
              "      <td>0</td>\n",
              "      <td>0</td>\n",
              "      <td>analyst role</td>\n",
              "    </tr>\n",
              "    <tr>\n",
              "      <th>4</th>\n",
              "      <td>Sr. Data Scientist</td>\n",
              "      <td>Altak Group</td>\n",
              "      <td>Remote</td>\n",
              "      <td>Full-time</td>\n",
              "      <td>136000</td>\n",
              "      <td>['python', 'machine learning', 'tableau', 'aws...</td>\n",
              "      <td>1</td>\n",
              "      <td>1</td>\n",
              "      <td>0</td>\n",
              "      <td>1</td>\n",
              "      <td>0</td>\n",
              "      <td>0</td>\n",
              "      <td>1</td>\n",
              "      <td>0</td>\n",
              "      <td>0</td>\n",
              "      <td>1</td>\n",
              "      <td>1</td>\n",
              "      <td>0</td>\n",
              "      <td>AI role</td>\n",
              "    </tr>\n",
              "  </tbody>\n",
              "</table>\n",
              "</div>\n",
              "    <div class=\"colab-df-buttons\">\n",
              "\n",
              "  <div class=\"colab-df-container\">\n",
              "    <button class=\"colab-df-convert\" onclick=\"convertToInteractive('df-4b51aa20-23a3-4c22-8a27-1b664f4dfb03')\"\n",
              "            title=\"Convert this dataframe to an interactive table.\"\n",
              "            style=\"display:none;\">\n",
              "\n",
              "  <svg xmlns=\"http://www.w3.org/2000/svg\" height=\"24px\" viewBox=\"0 -960 960 960\">\n",
              "    <path d=\"M120-120v-720h720v720H120Zm60-500h600v-160H180v160Zm220 220h160v-160H400v160Zm0 220h160v-160H400v160ZM180-400h160v-160H180v160Zm440 0h160v-160H620v160ZM180-180h160v-160H180v160Zm440 0h160v-160H620v160Z\"/>\n",
              "  </svg>\n",
              "    </button>\n",
              "\n",
              "  <style>\n",
              "    .colab-df-container {\n",
              "      display:flex;\n",
              "      gap: 12px;\n",
              "    }\n",
              "\n",
              "    .colab-df-convert {\n",
              "      background-color: #E8F0FE;\n",
              "      border: none;\n",
              "      border-radius: 50%;\n",
              "      cursor: pointer;\n",
              "      display: none;\n",
              "      fill: #1967D2;\n",
              "      height: 32px;\n",
              "      padding: 0 0 0 0;\n",
              "      width: 32px;\n",
              "    }\n",
              "\n",
              "    .colab-df-convert:hover {\n",
              "      background-color: #E2EBFA;\n",
              "      box-shadow: 0px 1px 2px rgba(60, 64, 67, 0.3), 0px 1px 3px 1px rgba(60, 64, 67, 0.15);\n",
              "      fill: #174EA6;\n",
              "    }\n",
              "\n",
              "    .colab-df-buttons div {\n",
              "      margin-bottom: 4px;\n",
              "    }\n",
              "\n",
              "    [theme=dark] .colab-df-convert {\n",
              "      background-color: #3B4455;\n",
              "      fill: #D2E3FC;\n",
              "    }\n",
              "\n",
              "    [theme=dark] .colab-df-convert:hover {\n",
              "      background-color: #434B5C;\n",
              "      box-shadow: 0px 1px 3px 1px rgba(0, 0, 0, 0.15);\n",
              "      filter: drop-shadow(0px 1px 2px rgba(0, 0, 0, 0.3));\n",
              "      fill: #FFFFFF;\n",
              "    }\n",
              "  </style>\n",
              "\n",
              "    <script>\n",
              "      const buttonEl =\n",
              "        document.querySelector('#df-4b51aa20-23a3-4c22-8a27-1b664f4dfb03 button.colab-df-convert');\n",
              "      buttonEl.style.display =\n",
              "        google.colab.kernel.accessAllowed ? 'block' : 'none';\n",
              "\n",
              "      async function convertToInteractive(key) {\n",
              "        const element = document.querySelector('#df-4b51aa20-23a3-4c22-8a27-1b664f4dfb03');\n",
              "        const dataTable =\n",
              "          await google.colab.kernel.invokeFunction('convertToInteractive',\n",
              "                                                    [key], {});\n",
              "        if (!dataTable) return;\n",
              "\n",
              "        const docLinkHtml = 'Like what you see? Visit the ' +\n",
              "          '<a target=\"_blank\" href=https://colab.research.google.com/notebooks/data_table.ipynb>data table notebook</a>'\n",
              "          + ' to learn more about interactive tables.';\n",
              "        element.innerHTML = '';\n",
              "        dataTable['output_type'] = 'display_data';\n",
              "        await google.colab.output.renderOutput(dataTable, element);\n",
              "        const docLink = document.createElement('div');\n",
              "        docLink.innerHTML = docLinkHtml;\n",
              "        element.appendChild(docLink);\n",
              "      }\n",
              "    </script>\n",
              "  </div>\n",
              "\n",
              "\n",
              "<div id=\"df-e2e63c56-6c4f-4dc9-8e54-bd8caca9f807\">\n",
              "  <button class=\"colab-df-quickchart\" onclick=\"quickchart('df-e2e63c56-6c4f-4dc9-8e54-bd8caca9f807')\"\n",
              "            title=\"Suggest charts\"\n",
              "            style=\"display:none;\">\n",
              "\n",
              "<svg xmlns=\"http://www.w3.org/2000/svg\" height=\"24px\"viewBox=\"0 0 24 24\"\n",
              "     width=\"24px\">\n",
              "    <g>\n",
              "        <path d=\"M19 3H5c-1.1 0-2 .9-2 2v14c0 1.1.9 2 2 2h14c1.1 0 2-.9 2-2V5c0-1.1-.9-2-2-2zM9 17H7v-7h2v7zm4 0h-2V7h2v10zm4 0h-2v-4h2v4z\"/>\n",
              "    </g>\n",
              "</svg>\n",
              "  </button>\n",
              "\n",
              "<style>\n",
              "  .colab-df-quickchart {\n",
              "      --bg-color: #E8F0FE;\n",
              "      --fill-color: #1967D2;\n",
              "      --hover-bg-color: #E2EBFA;\n",
              "      --hover-fill-color: #174EA6;\n",
              "      --disabled-fill-color: #AAA;\n",
              "      --disabled-bg-color: #DDD;\n",
              "  }\n",
              "\n",
              "  [theme=dark] .colab-df-quickchart {\n",
              "      --bg-color: #3B4455;\n",
              "      --fill-color: #D2E3FC;\n",
              "      --hover-bg-color: #434B5C;\n",
              "      --hover-fill-color: #FFFFFF;\n",
              "      --disabled-bg-color: #3B4455;\n",
              "      --disabled-fill-color: #666;\n",
              "  }\n",
              "\n",
              "  .colab-df-quickchart {\n",
              "    background-color: var(--bg-color);\n",
              "    border: none;\n",
              "    border-radius: 50%;\n",
              "    cursor: pointer;\n",
              "    display: none;\n",
              "    fill: var(--fill-color);\n",
              "    height: 32px;\n",
              "    padding: 0;\n",
              "    width: 32px;\n",
              "  }\n",
              "\n",
              "  .colab-df-quickchart:hover {\n",
              "    background-color: var(--hover-bg-color);\n",
              "    box-shadow: 0 1px 2px rgba(60, 64, 67, 0.3), 0 1px 3px 1px rgba(60, 64, 67, 0.15);\n",
              "    fill: var(--button-hover-fill-color);\n",
              "  }\n",
              "\n",
              "  .colab-df-quickchart-complete:disabled,\n",
              "  .colab-df-quickchart-complete:disabled:hover {\n",
              "    background-color: var(--disabled-bg-color);\n",
              "    fill: var(--disabled-fill-color);\n",
              "    box-shadow: none;\n",
              "  }\n",
              "\n",
              "  .colab-df-spinner {\n",
              "    border: 2px solid var(--fill-color);\n",
              "    border-color: transparent;\n",
              "    border-bottom-color: var(--fill-color);\n",
              "    animation:\n",
              "      spin 1s steps(1) infinite;\n",
              "  }\n",
              "\n",
              "  @keyframes spin {\n",
              "    0% {\n",
              "      border-color: transparent;\n",
              "      border-bottom-color: var(--fill-color);\n",
              "      border-left-color: var(--fill-color);\n",
              "    }\n",
              "    20% {\n",
              "      border-color: transparent;\n",
              "      border-left-color: var(--fill-color);\n",
              "      border-top-color: var(--fill-color);\n",
              "    }\n",
              "    30% {\n",
              "      border-color: transparent;\n",
              "      border-left-color: var(--fill-color);\n",
              "      border-top-color: var(--fill-color);\n",
              "      border-right-color: var(--fill-color);\n",
              "    }\n",
              "    40% {\n",
              "      border-color: transparent;\n",
              "      border-right-color: var(--fill-color);\n",
              "      border-top-color: var(--fill-color);\n",
              "    }\n",
              "    60% {\n",
              "      border-color: transparent;\n",
              "      border-right-color: var(--fill-color);\n",
              "    }\n",
              "    80% {\n",
              "      border-color: transparent;\n",
              "      border-right-color: var(--fill-color);\n",
              "      border-bottom-color: var(--fill-color);\n",
              "    }\n",
              "    90% {\n",
              "      border-color: transparent;\n",
              "      border-bottom-color: var(--fill-color);\n",
              "    }\n",
              "  }\n",
              "</style>\n",
              "\n",
              "  <script>\n",
              "    async function quickchart(key) {\n",
              "      const quickchartButtonEl =\n",
              "        document.querySelector('#' + key + ' button');\n",
              "      quickchartButtonEl.disabled = true;  // To prevent multiple clicks.\n",
              "      quickchartButtonEl.classList.add('colab-df-spinner');\n",
              "      try {\n",
              "        const charts = await google.colab.kernel.invokeFunction(\n",
              "            'suggestCharts', [key], {});\n",
              "      } catch (error) {\n",
              "        console.error('Error during call to suggestCharts:', error);\n",
              "      }\n",
              "      quickchartButtonEl.classList.remove('colab-df-spinner');\n",
              "      quickchartButtonEl.classList.add('colab-df-quickchart-complete');\n",
              "    }\n",
              "    (() => {\n",
              "      let quickchartButtonEl =\n",
              "        document.querySelector('#df-e2e63c56-6c4f-4dc9-8e54-bd8caca9f807 button');\n",
              "      quickchartButtonEl.style.display =\n",
              "        google.colab.kernel.accessAllowed ? 'block' : 'none';\n",
              "    })();\n",
              "  </script>\n",
              "</div>\n",
              "\n",
              "    </div>\n",
              "  </div>\n"
            ],
            "text/plain": [
              "                                               Title  \\\n",
              "0               Staff Applied Scientist, Marketplace   \n",
              "1  Prompt Engineer for Generative AI (chatbot and...   \n",
              "2                     Data Systems Analyst/Architect   \n",
              "3                     AIOps Principle Data Scientist   \n",
              "4                                 Sr. Data Scientist   \n",
              "\n",
              "                                   Company Location Type of Positions  Salary  \\\n",
              "0                             ThredUp Inc.       CA         Full-time  190000   \n",
              "1                  Vicarious Talent Agency       WA         Full-time   70000   \n",
              "2  General Dynamics Information Technology   Remote         Full-time  104000   \n",
              "3                               CVS Health       CT         Full-time  140000   \n",
              "4                              Altak Group   Remote         Full-time  136000   \n",
              "\n",
              "                                   Identified_Skills  Python  SQL  NOSQL  \\\n",
              "0       ['python', 'machine learning', 'aws', 'sql']       1    1      0   \n",
              "1  ['python', 'machine learning', 'deep learning'...       1    0      0   \n",
              "2  ['machine learning', 'aws', 'azure', 'nosql', ...       0    1      1   \n",
              "3       ['python', 'machine learning', 'aws', 'gcp']       1    0      0   \n",
              "4  ['python', 'machine learning', 'tableau', 'aws...       1    1      0   \n",
              "\n",
              "   Machine learning /deep learning  ETL  Github  cloud_data_base -aws/azure  \\\n",
              "0                                1    0       0                           1   \n",
              "1                                1    1       0                           1   \n",
              "2                                1    1       0                           1   \n",
              "3                                1    0       0                           1   \n",
              "4                                1    0       0                           1   \n",
              "\n",
              "   docker  cloud_engine-airflow/kafka/gcp  big_data_tools-hadoop/apache spark  \\\n",
              "0       0                               0                                   0   \n",
              "1       0                               0                                   0   \n",
              "2       0                               0                                   0   \n",
              "3       0                               1                                   0   \n",
              "4       0                               0                                   1   \n",
              "\n",
              "   tableau  lib-numpy/pandas/tensorflow/pytorch          JOB TYPE  \n",
              "0        0                                    0  D-Scientist role  \n",
              "1        0                                    0           AI role  \n",
              "2        0                                    0   D-Engineer role  \n",
              "3        0                                    0      analyst role  \n",
              "4        1                                    0           AI role  "
            ]
          },
          "execution_count": 38,
          "metadata": {},
          "output_type": "execute_result"
        }
      ],
      "source": [
        "data.head()"
      ]
    },
    {
      "cell_type": "code",
      "execution_count": null,
      "metadata": {
        "colab": {
          "background_save": true
        },
        "id": "_lk7yNG8Qznz"
      },
      "outputs": [],
      "source": [
        "data.to_csv('cleaned.csv',index=False)"
      ]
    },
    {
      "cell_type": "code",
      "execution_count": null,
      "metadata": {
        "colab": {
          "background_save": true
        },
        "id": "1GMwSPKGt21h"
      },
      "outputs": [],
      "source": []
    }
  ],
  "metadata": {
    "colab": {
      "provenance": []
    },
    "kernelspec": {
      "display_name": "Python 3",
      "name": "python3"
    },
    "language_info": {
      "name": "python"
    }
  },
  "nbformat": 4,
  "nbformat_minor": 0
}